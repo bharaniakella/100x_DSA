{
  "nbformat": 4,
  "nbformat_minor": 0,
  "metadata": {
    "colab": {
      "provenance": [],
      "authorship_tag": "ABX9TyOtOdPVT+pFPP+TFOBBjus3",
      "include_colab_link": true
    },
    "kernelspec": {
      "name": "python3",
      "display_name": "Python 3"
    },
    "language_info": {
      "name": "python"
    }
  },
  "cells": [
    {
      "cell_type": "markdown",
      "metadata": {
        "id": "view-in-github",
        "colab_type": "text"
      },
      "source": [
        "<a href=\"https://colab.research.google.com/github/bharaniakella/100x_DSA/blob/main/kokoEatingBananas.ipynb\" target=\"_parent\"><img src=\"https://colab.research.google.com/assets/colab-badge.svg\" alt=\"Open In Colab\"/></a>"
      ]
    },
    {
      "cell_type": "code",
      "execution_count": null,
      "metadata": {
        "id": "R2I35xzs-myj"
      },
      "outputs": [],
      "source": [
        "class Solution:\n",
        "    def minEatingSpeed(self, piles: List[int], h: int) -> int:\n",
        "        low=1\n",
        "        high =max(piles)\n",
        "        ans='infinite'\n",
        "        while(low<=high):\n",
        "            mid=low+(high-low)//2\n",
        "            totalHours=self.findTotalHours(piles,mid)\n",
        "            if(totalHours>h):\n",
        "                low=mid+1\n",
        "            else:\n",
        "                ans=mid\n",
        "                high=mid-1\n",
        "        return ans\n",
        "\n",
        "    def findTotalHours(self,piles,bananasPerHour):\n",
        "        totalHour=0\n",
        "        for i in range(len(piles)):\n",
        "            totalHour=totalHour+ceil(piles[i]/bananasPerHour)\n",
        "        return totalHour\n",
        "\n",
        "\n",
        "\n"
      ]
    }
  ]
}