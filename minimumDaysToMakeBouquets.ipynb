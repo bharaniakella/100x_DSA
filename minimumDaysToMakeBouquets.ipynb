{
  "nbformat": 4,
  "nbformat_minor": 0,
  "metadata": {
    "colab": {
      "provenance": [],
      "authorship_tag": "ABX9TyMOiC+xR1IjJNgFwfRbqorn",
      "include_colab_link": true
    },
    "kernelspec": {
      "name": "python3",
      "display_name": "Python 3"
    },
    "language_info": {
      "name": "python"
    }
  },
  "cells": [
    {
      "cell_type": "markdown",
      "metadata": {
        "id": "view-in-github",
        "colab_type": "text"
      },
      "source": [
        "<a href=\"https://colab.research.google.com/github/bharaniakella/100x_DSA/blob/main/minimumDaysToMakeBouquets.ipynb\" target=\"_parent\"><img src=\"https://colab.research.google.com/assets/colab-badge.svg\" alt=\"Open In Colab\"/></a>"
      ]
    },
    {
      "cell_type": "code",
      "execution_count": null,
      "metadata": {
        "id": "MKr_etYJ_JEf"
      },
      "outputs": [],
      "source": [
        "class Solution:\n",
        "    def minDays(self, bloomDay: List[int], m: int, k: int) -> int:\n",
        "        low=min(bloomDay)\n",
        "        high=max(bloomDay)\n",
        "        ans=0\n",
        "        if(len(bloomDay)<(m*k)):\n",
        "            return -1\n",
        "        while(low<=high):\n",
        "            mid=low+(high-low)//2\n",
        "            if(self.possible(bloomDay,mid,m,k)):\n",
        "                ans=mid\n",
        "                high=mid-1\n",
        "            else:\n",
        "                low=mid+1\n",
        "        return ans\n",
        "\n",
        "    def possible(self,bloomDayArr,whichDay,m,k):\n",
        "        count=0\n",
        "        bouquetCount=0\n",
        "        for i in range(len(bloomDayArr)):\n",
        "            if(bloomDayArr[i]<=whichDay):\n",
        "                count=count+1\n",
        "            else:\n",
        "                bouquetCount=bouquetCount+floor(count/k)\n",
        "                count=0\n",
        "        bouquetCount=bouquetCount+floor(count/k)\n",
        "        if(bouquetCount>=m):\n",
        "            return True\n",
        "        else:\n",
        "            return False\n",
        "\n",
        ""
      ]
    }
  ]
}