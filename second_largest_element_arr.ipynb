{
  "nbformat": 4,
  "nbformat_minor": 0,
  "metadata": {
    "colab": {
      "provenance": [],
      "authorship_tag": "ABX9TyOqyjarrEqVMeIomIvAFAI9",
      "include_colab_link": true
    },
    "kernelspec": {
      "name": "python3",
      "display_name": "Python 3"
    },
    "language_info": {
      "name": "python"
    }
  },
  "cells": [
    {
      "cell_type": "markdown",
      "metadata": {
        "id": "view-in-github",
        "colab_type": "text"
      },
      "source": [
        "<a href=\"https://colab.research.google.com/github/bharaniakella/100x_DSA/blob/main/second_largest_element_arr.ipynb\" target=\"_parent\"><img src=\"https://colab.research.google.com/assets/colab-badge.svg\" alt=\"Open In Colab\"/></a>"
      ]
    },
    {
      "cell_type": "code",
      "execution_count": 7,
      "metadata": {
        "id": "xN82PcUw1kMY"
      },
      "outputs": [],
      "source": [
        "arr=[1,3,5,4,2,6]\n",
        "def second_large(arr):\n",
        "  maxi=0\n",
        "  s_maxi=-1\n",
        "  for i in range(len(arr)):\n",
        "    if(arr[i]>arr[maxi]):\n",
        "      s_maxi=maxi\n",
        "      maxi=i\n",
        "    elif(s_maxi==-1 or arr[i]>arr[s_maxi]):\n",
        "      s_maxi=i\n",
        "  return arr[s_maxi]"
      ]
    },
    {
      "cell_type": "code",
      "source": [
        "second_large(arr)"
      ],
      "metadata": {
        "colab": {
          "base_uri": "https://localhost:8080/"
        },
        "id": "kNkU5gRD2o9c",
        "outputId": "65b49158-3dfd-4500-90ff-40a2594512f7"
      },
      "execution_count": 8,
      "outputs": [
        {
          "output_type": "execute_result",
          "data": {
            "text/plain": [
              "5"
            ]
          },
          "metadata": {},
          "execution_count": 8
        }
      ]
    },
    {
      "cell_type": "code",
      "source": [],
      "metadata": {
        "id": "hmGYtIKq2raF"
      },
      "execution_count": null,
      "outputs": []
    }
  ]
}