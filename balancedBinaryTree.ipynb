{
  "nbformat": 4,
  "nbformat_minor": 0,
  "metadata": {
    "colab": {
      "provenance": [],
      "authorship_tag": "ABX9TyOCJZFIQz9QsAmBJWgGiS8m",
      "include_colab_link": true
    },
    "kernelspec": {
      "name": "python3",
      "display_name": "Python 3"
    },
    "language_info": {
      "name": "python"
    }
  },
  "cells": [
    {
      "cell_type": "markdown",
      "metadata": {
        "id": "view-in-github",
        "colab_type": "text"
      },
      "source": [
        "<a href=\"https://colab.research.google.com/github/bharaniakella/100x_DSA/blob/main/balancedBinaryTree.ipynb\" target=\"_parent\"><img src=\"https://colab.research.google.com/assets/colab-badge.svg\" alt=\"Open In Colab\"/></a>"
      ]
    },
    {
      "cell_type": "code",
      "execution_count": null,
      "metadata": {
        "id": "hbtSbs09BIk9"
      },
      "outputs": [],
      "source": [
        "# Definition for a binary tree node.\n",
        "# class TreeNode:\n",
        "#     def __init__(self, val=0, left=None, right=None):\n",
        "#         self.val = val\n",
        "#         self.left = left\n",
        "#         self.right = right\n",
        "class Solution:\n",
        "    def isBalanced(self, root: Optional[TreeNode]) -> bool:\n",
        "\n",
        "        return self.checkHeight(root)!=-1\n",
        "\n",
        "    def checkHeight(self,root):\n",
        "        if(root is None):\n",
        "            return 0\n",
        "        lh=self.checkHeight(root.left)\n",
        "        if(lh==-1):\n",
        "            return -1\n",
        "        rh=self.checkHeight(root.right)\n",
        "        if(rh==-1):\n",
        "            return -1\n",
        "        if(abs(lh-rh)>1):\n",
        "            return -1\n",
        "\n",
        "        return 1+ max(lh,rh)\n",
        ""
      ]
    }
  ]
}