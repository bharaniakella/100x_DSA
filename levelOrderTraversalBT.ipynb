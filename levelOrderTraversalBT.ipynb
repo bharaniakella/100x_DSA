{
  "nbformat": 4,
  "nbformat_minor": 0,
  "metadata": {
    "colab": {
      "provenance": [],
      "authorship_tag": "ABX9TyM2Ph2LdbfV//aV/n2PNF4B",
      "include_colab_link": true
    },
    "kernelspec": {
      "name": "python3",
      "display_name": "Python 3"
    },
    "language_info": {
      "name": "python"
    }
  },
  "cells": [
    {
      "cell_type": "markdown",
      "metadata": {
        "id": "view-in-github",
        "colab_type": "text"
      },
      "source": [
        "<a href=\"https://colab.research.google.com/github/bharaniakella/100x_DSA/blob/main/levelOrderTraversalBT.ipynb\" target=\"_parent\"><img src=\"https://colab.research.google.com/assets/colab-badge.svg\" alt=\"Open In Colab\"/></a>"
      ]
    },
    {
      "cell_type": "code",
      "execution_count": null,
      "metadata": {
        "id": "UFzFC1-_HYdF"
      },
      "outputs": [],
      "source": [
        "# Definition for a binary tree node.\n",
        "# class TreeNode:\n",
        "#     def __init__(self, val=0, left=None, right=None):\n",
        "#         self.val = val\n",
        "#         self.left = left\n",
        "#         self.right = right\n",
        "class Solution:\n",
        "    def levelOrder(self, root: Optional[TreeNode]) -> List[List[int]]:\n",
        "        if root is None:\n",
        "            return []\n",
        "        queue=deque()\n",
        "        queue.append(root)\n",
        "        final_arr=[]\n",
        "        while(len(queue)!=0):\n",
        "            level_size=len(queue)\n",
        "            current_level=[]\n",
        "            for _ in range(level_size):\n",
        "                store=queue.popleft()\n",
        "                current_level.append(store.val)\n",
        "                if(store.left):\n",
        "                    queue.append(store.left)\n",
        "                if(store.right):\n",
        "                    queue.append(store.right)\n",
        "\n",
        "            final_arr.append(current_level)\n",
        "\n",
        "        return final_arr\n",
        ""
      ]
    }
  ]
}