{
  "nbformat": 4,
  "nbformat_minor": 0,
  "metadata": {
    "colab": {
      "provenance": [],
      "authorship_tag": "ABX9TyPcdOqpEth1ymE5SYuN2fMN",
      "include_colab_link": true
    },
    "kernelspec": {
      "name": "python3",
      "display_name": "Python 3"
    },
    "language_info": {
      "name": "python"
    }
  },
  "cells": [
    {
      "cell_type": "markdown",
      "metadata": {
        "id": "view-in-github",
        "colab_type": "text"
      },
      "source": [
        "<a href=\"https://colab.research.google.com/github/bharaniakella/100x_DSA/blob/main/max_PathSum.ipynb\" target=\"_parent\"><img src=\"https://colab.research.google.com/assets/colab-badge.svg\" alt=\"Open In Colab\"/></a>"
      ]
    },
    {
      "cell_type": "code",
      "execution_count": null,
      "metadata": {
        "id": "8GUp7MG8qiTY"
      },
      "outputs": [],
      "source": [
        "\n",
        "class Solution:\n",
        "    maxi=float('-inf')\n",
        "    def maxPathSum(self, root: Optional[TreeNode]) -> int:\n",
        "\n",
        "        self.height(root)\n",
        "\n",
        "        return self.maxi\n",
        "\n",
        "    def height(self,root):\n",
        "        if(root is None):\n",
        "            return 0\n",
        "        lh=max(0,self.height(root.left))\n",
        "        rh=max(0,self.height(root.right))\n",
        "\n",
        "        self.maxi=max(self.maxi,lh+rh+root.val)\n",
        "        return root.val+max(lh,rh)"
      ]
    }
  ]
}