{
  "nbformat": 4,
  "nbformat_minor": 0,
  "metadata": {
    "colab": {
      "provenance": [],
      "authorship_tag": "ABX9TyPjMH7w6PcJEUVOD0hwne+0",
      "include_colab_link": true
    },
    "kernelspec": {
      "name": "python3",
      "display_name": "Python 3"
    },
    "language_info": {
      "name": "python"
    }
  },
  "cells": [
    {
      "cell_type": "markdown",
      "metadata": {
        "id": "view-in-github",
        "colab_type": "text"
      },
      "source": [
        "<a href=\"https://colab.research.google.com/github/bharaniakella/100x_DSA/blob/main/reverse_linkedList.ipynb\" target=\"_parent\"><img src=\"https://colab.research.google.com/assets/colab-badge.svg\" alt=\"Open In Colab\"/></a>"
      ]
    },
    {
      "cell_type": "code",
      "execution_count": null,
      "metadata": {
        "id": "W3R0-oXwYAMH"
      },
      "outputs": [],
      "source": [
        "\n",
        "class Solution(object):\n",
        "    def reverseList(self, head):\n",
        "        \"\"\"\n",
        "        :type head: ListNode\n",
        "        :rtype: ListNode\n",
        "        \"\"\"\n",
        "        if head is None:\n",
        "            return None\n",
        "\n",
        "        nextNode=None\n",
        "        curr=head\n",
        "        prev=None\n",
        "        while(curr!=None):\n",
        "            nextNode=curr.next\n",
        "            curr.next=prev\n",
        "            prev=curr\n",
        "            curr=nextNode\n",
        "\n",
        "        return prev\n",
        ""
      ]
    }
  ]
}