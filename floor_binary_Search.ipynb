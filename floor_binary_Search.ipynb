{
  "nbformat": 4,
  "nbformat_minor": 0,
  "metadata": {
    "colab": {
      "provenance": [],
      "authorship_tag": "ABX9TyPwK2kj7hUSZxMK31uJdgpP",
      "include_colab_link": true
    },
    "kernelspec": {
      "name": "python3",
      "display_name": "Python 3"
    },
    "language_info": {
      "name": "python"
    }
  },
  "cells": [
    {
      "cell_type": "markdown",
      "metadata": {
        "id": "view-in-github",
        "colab_type": "text"
      },
      "source": [
        "<a href=\"https://colab.research.google.com/github/bharaniakella/100x_DSA/blob/main/floor_binary_Search.ipynb\" target=\"_parent\"><img src=\"https://colab.research.google.com/assets/colab-badge.svg\" alt=\"Open In Colab\"/></a>"
      ]
    },
    {
      "cell_type": "code",
      "execution_count": 11,
      "metadata": {
        "id": "IlSdhGboizWQ"
      },
      "outputs": [],
      "source": [
        "#floor -> largest element which is equal to or less than target\n",
        "arr=[3,4,4,7,8,10]\n",
        "\n",
        "def floor_bin(arr,target):\n",
        "  low=0\n",
        "  high=len(arr)-1\n",
        "  ans=-1\n",
        "  while(low<=high):\n",
        "    mid=low+(high-low)//2\n",
        "    if(arr[mid]<=target):\n",
        "      ans=arr[mid]\n",
        "      low=mid+1\n",
        "    else:\n",
        "      high=mid-1\n",
        "  return ans\n"
      ]
    },
    {
      "cell_type": "code",
      "source": [
        "floor_bin(arr,1)"
      ],
      "metadata": {
        "colab": {
          "base_uri": "https://localhost:8080/"
        },
        "id": "spGBJJXqjMOm",
        "outputId": "a23e23f0-ebe4-491a-fc90-5bae63c50105"
      },
      "execution_count": 12,
      "outputs": [
        {
          "output_type": "execute_result",
          "data": {
            "text/plain": [
              "-1"
            ]
          },
          "metadata": {},
          "execution_count": 12
        }
      ]
    },
    {
      "cell_type": "code",
      "source": [],
      "metadata": {
        "id": "azE1nmf0jRkI"
      },
      "execution_count": null,
      "outputs": []
    }
  ]
}