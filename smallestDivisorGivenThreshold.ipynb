{
  "nbformat": 4,
  "nbformat_minor": 0,
  "metadata": {
    "colab": {
      "provenance": [],
      "authorship_tag": "ABX9TyM6RwW7cROGjLd65mH5jA1e",
      "include_colab_link": true
    },
    "kernelspec": {
      "name": "python3",
      "display_name": "Python 3"
    },
    "language_info": {
      "name": "python"
    }
  },
  "cells": [
    {
      "cell_type": "markdown",
      "metadata": {
        "id": "view-in-github",
        "colab_type": "text"
      },
      "source": [
        "<a href=\"https://colab.research.google.com/github/bharaniakella/100x_DSA/blob/main/smallestDivisorGivenThreshold.ipynb\" target=\"_parent\"><img src=\"https://colab.research.google.com/assets/colab-badge.svg\" alt=\"Open In Colab\"/></a>"
      ]
    },
    {
      "cell_type": "code",
      "execution_count": null,
      "metadata": {
        "id": "ZgSO3V7EPZ3H"
      },
      "outputs": [],
      "source": [
        "class Solution:\n",
        "    def smallestDivisor(self, nums: List[int], threshold: int) -> int:\n",
        "        low=1\n",
        "        high=max(nums)\n",
        "        ans=0\n",
        "        while(low<=high):\n",
        "            mid=low+(high-low)//2\n",
        "            total=self.findSum(nums,mid)\n",
        "            if(total>threshold):\n",
        "                low=mid+1\n",
        "            else:\n",
        "                ans=mid\n",
        "                high=mid-1\n",
        "        return ans\n",
        "\n",
        "    def findSum(self,nums,divisor):\n",
        "        total=0\n",
        "        for i in range(len(nums)):\n",
        "            total=total+ceil(nums[i]/divisor)\n",
        "        return total\n",
        "\n",
        ""
      ]
    }
  ]
}