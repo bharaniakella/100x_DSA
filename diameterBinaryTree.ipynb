{
  "nbformat": 4,
  "nbformat_minor": 0,
  "metadata": {
    "colab": {
      "provenance": [],
      "authorship_tag": "ABX9TyOk+aSUTyNeTWu8FZNTNNnv",
      "include_colab_link": true
    },
    "kernelspec": {
      "name": "python3",
      "display_name": "Python 3"
    },
    "language_info": {
      "name": "python"
    }
  },
  "cells": [
    {
      "cell_type": "markdown",
      "metadata": {
        "id": "view-in-github",
        "colab_type": "text"
      },
      "source": [
        "<a href=\"https://colab.research.google.com/github/bharaniakella/100x_DSA/blob/main/diameterBinaryTree.ipynb\" target=\"_parent\"><img src=\"https://colab.research.google.com/assets/colab-badge.svg\" alt=\"Open In Colab\"/></a>"
      ]
    },
    {
      "cell_type": "code",
      "execution_count": null,
      "metadata": {
        "id": "TKS8DE_uWIwF"
      },
      "outputs": [],
      "source": [
        "# Definition for a binary tree node.\n",
        "# class TreeNode:\n",
        "#     def __init__(self, val=0, left=None, right=None):\n",
        "#         self.val = val\n",
        "#         self.left = left\n",
        "#         self.right = right\n",
        "class Solution:\n",
        "    dia=0\n",
        "    def diameterOfBinaryTree(self, root: Optional[TreeNode]) -> int:\n",
        "\n",
        "        self.height(root)\n",
        "\n",
        "        return self.dia\n",
        "\n",
        "    def height(self,root):\n",
        "        if(root is None):\n",
        "            return 0\n",
        "\n",
        "        lh=self.height(root.left)\n",
        "        rh=self.height(root.right)\n",
        "\n",
        "        self.dia=max(self.dia,lh+rh)\n",
        "\n",
        "        return 1+max(lh,rh)\n",
        "\n",
        ""
      ]
    }
  ]
}