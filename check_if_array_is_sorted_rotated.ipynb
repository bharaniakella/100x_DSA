{
  "nbformat": 4,
  "nbformat_minor": 0,
  "metadata": {
    "colab": {
      "provenance": [],
      "authorship_tag": "ABX9TyMmwfSNIPclC/GJAaXDO4ke",
      "include_colab_link": true
    },
    "kernelspec": {
      "name": "python3",
      "display_name": "Python 3"
    },
    "language_info": {
      "name": "python"
    }
  },
  "cells": [
    {
      "cell_type": "markdown",
      "metadata": {
        "id": "view-in-github",
        "colab_type": "text"
      },
      "source": [
        "<a href=\"https://colab.research.google.com/github/bharaniakella/100x_DSA/blob/main/check_if_array_is_sorted_rotated.ipynb\" target=\"_parent\"><img src=\"https://colab.research.google.com/assets/colab-badge.svg\" alt=\"Open In Colab\"/></a>"
      ]
    },
    {
      "cell_type": "code",
      "execution_count": null,
      "metadata": {
        "id": "MD2FilgG9c-H"
      },
      "outputs": [],
      "source": [
        "class Solution:\n",
        "    def check(self, nums: List[int]) -> bool:\n",
        "        index=-1\n",
        "        count=1\n",
        "        sorted_arr=sorted(nums)\n",
        "        for i in range(len(nums)-1):\n",
        "            count=count+1\n",
        "            if(nums[i]>nums[i+1]):\n",
        "                index=i\n",
        "                break\n",
        "\n",
        "        if(index==-1):\n",
        "            return True\n",
        "\n",
        "        temp=nums[index+1:]\n",
        "        if((temp+nums[:index+1])==sorted_arr):\n",
        "            return True\n",
        "        else:\n",
        "            return False\n",
        "\n"
      ]
    }
  ]
}