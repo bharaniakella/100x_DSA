{
  "nbformat": 4,
  "nbformat_minor": 0,
  "metadata": {
    "colab": {
      "provenance": [],
      "authorship_tag": "ABX9TyPEnp4AQ9YsSLIWo5NGo2uz",
      "include_colab_link": true
    },
    "kernelspec": {
      "name": "python3",
      "display_name": "Python 3"
    },
    "language_info": {
      "name": "python"
    }
  },
  "cells": [
    {
      "cell_type": "markdown",
      "metadata": {
        "id": "view-in-github",
        "colab_type": "text"
      },
      "source": [
        "<a href=\"https://colab.research.google.com/github/bharaniakella/100x_DSA/blob/main/binary_search_iterative.ipynb\" target=\"_parent\"><img src=\"https://colab.research.google.com/assets/colab-badge.svg\" alt=\"Open In Colab\"/></a>"
      ]
    },
    {
      "cell_type": "code",
      "execution_count": null,
      "metadata": {
        "id": "hVhFAgHnbgUO"
      },
      "outputs": [],
      "source": [
        "class Solution:\n",
        "    def search(self, nums: List[int], target: int) -> int:\n",
        "        low=0\n",
        "        high=len(nums)-1\n",
        "        while(low<=high):\n",
        "            mid=low+(high-low)//2\n",
        "            if(nums[mid]==target):\n",
        "                return mid\n",
        "            elif(target>nums[mid]):\n",
        "                low=mid+1\n",
        "            else:\n",
        "                high=mid-1\n",
        "\n",
        "        return -1\n",
        "\n",
        ""
      ]
    }
  ]
}