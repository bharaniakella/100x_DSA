{
  "nbformat": 4,
  "nbformat_minor": 0,
  "metadata": {
    "colab": {
      "provenance": [],
      "authorship_tag": "ABX9TyNylN0EvaSD3MiLYCOCjVgn",
      "include_colab_link": true
    },
    "kernelspec": {
      "name": "python3",
      "display_name": "Python 3"
    },
    "language_info": {
      "name": "python"
    }
  },
  "cells": [
    {
      "cell_type": "markdown",
      "metadata": {
        "id": "view-in-github",
        "colab_type": "text"
      },
      "source": [
        "<a href=\"https://colab.research.google.com/github/bharaniakella/100x_DSA/blob/main/shipWithinDDays.ipynb\" target=\"_parent\"><img src=\"https://colab.research.google.com/assets/colab-badge.svg\" alt=\"Open In Colab\"/></a>"
      ]
    },
    {
      "cell_type": "code",
      "execution_count": null,
      "metadata": {
        "id": "7uZ2-QQpU0yO"
      },
      "outputs": [],
      "source": [
        "class Solution:\n",
        "    def shipWithinDays(self, weights: List[int], days: int) -> int:\n",
        "        low=max(weights)\n",
        "        totalweight=0\n",
        "        ans=0\n",
        "        for i in range(len(weights)):\n",
        "            totalweight=totalweight+weights[i]\n",
        "\n",
        "        high=totalweight\n",
        "\n",
        "        while(low<=high):\n",
        "            mid=low+(high-low)//2\n",
        "            possible=self.findSomething(weights,mid,days)\n",
        "            if(possible):\n",
        "                ans=mid\n",
        "                high=mid-1\n",
        "            else:\n",
        "                low=mid+1\n",
        "\n",
        "        return ans\n",
        "\n",
        "\n",
        "    def findSomething(self,weights,minWeight,days):\n",
        "        count=0\n",
        "        countDay=1\n",
        "        for i in range(len(weights)):\n",
        "            count=count+weights[i]\n",
        "            if(count>minWeight):\n",
        "                count=weights[i]\n",
        "                countDay=countDay+1\n",
        "        if(countDay<=days):\n",
        "            return True\n",
        "        else:\n",
        "            return False\n",
        "\n",
        "\n",
        "\n",
        "\n",
        ""
      ]
    }
  ]
}