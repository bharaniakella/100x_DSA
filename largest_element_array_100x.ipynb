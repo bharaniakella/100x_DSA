{
  "nbformat": 4,
  "nbformat_minor": 0,
  "metadata": {
    "colab": {
      "provenance": []
    },
    "kernelspec": {
      "name": "python3",
      "display_name": "Python 3"
    },
    "language_info": {
      "name": "python"
    }
  },
  "cells": [
    {
      "cell_type": "code",
      "execution_count": 1,
      "metadata": {
        "id": "83znnsdAKt1T"
      },
      "outputs": [],
      "source": [
        "arr=[3,5,2,1,4]\n",
        "\n",
        "def max_arr(arr):\n",
        "  maxi=arr[0]\n",
        "  for i in range(len(arr)):\n",
        "    if(arr[i]>maxi):\n",
        "      maxi=arr[i]\n",
        "  return maxi"
      ]
    },
    {
      "cell_type": "code",
      "source": [
        "max_arr(arr)"
      ],
      "metadata": {
        "colab": {
          "base_uri": "https://localhost:8080/"
        },
        "id": "MHg8AxcRObXe",
        "outputId": "1c168771-a46d-4d44-90e3-e83febacf676"
      },
      "execution_count": 2,
      "outputs": [
        {
          "output_type": "execute_result",
          "data": {
            "text/plain": [
              "5"
            ]
          },
          "metadata": {},
          "execution_count": 2
        }
      ]
    },
    {
      "cell_type": "code",
      "source": [],
      "metadata": {
        "id": "WaBiCMaFOdm3"
      },
      "execution_count": null,
      "outputs": []
    }
  ]
}