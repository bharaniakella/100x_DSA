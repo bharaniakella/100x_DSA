{
  "nbformat": 4,
  "nbformat_minor": 0,
  "metadata": {
    "colab": {
      "provenance": [],
      "authorship_tag": "ABX9TyMhrxFuyNczowCpLCc3OzHD",
      "include_colab_link": true
    },
    "kernelspec": {
      "name": "python3",
      "display_name": "Python 3"
    },
    "language_info": {
      "name": "python"
    }
  },
  "cells": [
    {
      "cell_type": "markdown",
      "metadata": {
        "id": "view-in-github",
        "colab_type": "text"
      },
      "source": [
        "<a href=\"https://colab.research.google.com/github/bharaniakella/100x_DSA/blob/main/first_last_position_of_element_array.ipynb\" target=\"_parent\"><img src=\"https://colab.research.google.com/assets/colab-badge.svg\" alt=\"Open In Colab\"/></a>"
      ]
    },
    {
      "cell_type": "code",
      "execution_count": null,
      "metadata": {
        "id": "Gfhmdl8tlqVp"
      },
      "outputs": [],
      "source": [
        "class Solution:\n",
        "    def searchRange(self, nums: List[int], target: int) -> List[int]:\n",
        "\n",
        "        first=self.findFirst(nums,target)\n",
        "        last=self.findLast(nums,target)\n",
        "\n",
        "        return [first,last]\n",
        "\n",
        "    def findFirst(self,nums,target):\n",
        "            low=0\n",
        "            high=len(nums)-1\n",
        "            ans=-1\n",
        "            while(low<=high):\n",
        "                mid=low+(high-low)//2\n",
        "                if(nums[mid]==target):\n",
        "                    ans=mid\n",
        "                    high=mid-1\n",
        "                elif(nums[mid]<target):\n",
        "                    low=mid+1\n",
        "                else:\n",
        "                    high=mid-1\n",
        "            return ans\n",
        "\n",
        "    def findLast(self,nums,target):\n",
        "            low=0\n",
        "            high=len(nums)-1\n",
        "            ans=-1\n",
        "            while(low<=high):\n",
        "                mid=low+(high-low)//2\n",
        "                if(nums[mid]==target):\n",
        "                    ans=mid\n",
        "                    low=mid+1\n",
        "                elif(nums[mid]>target):\n",
        "                    high=mid-1\n",
        "                else:\n",
        "                    low=mid+1\n",
        "            return ans\n",
        "\n",
        "\n",
        "\n",
        "\n",
        ""
      ]
    }
  ]
}