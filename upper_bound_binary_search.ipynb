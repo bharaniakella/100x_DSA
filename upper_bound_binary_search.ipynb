{
  "nbformat": 4,
  "nbformat_minor": 0,
  "metadata": {
    "colab": {
      "provenance": [],
      "authorship_tag": "ABX9TyPg6c1ShAmpgcWkcKAdEXXV",
      "include_colab_link": true
    },
    "kernelspec": {
      "name": "python3",
      "display_name": "Python 3"
    },
    "language_info": {
      "name": "python"
    }
  },
  "cells": [
    {
      "cell_type": "markdown",
      "metadata": {
        "id": "view-in-github",
        "colab_type": "text"
      },
      "source": [
        "<a href=\"https://colab.research.google.com/github/bharaniakella/100x_DSA/blob/main/upper_bound_binary_search.ipynb\" target=\"_parent\"><img src=\"https://colab.research.google.com/assets/colab-badge.svg\" alt=\"Open In Colab\"/></a>"
      ]
    },
    {
      "cell_type": "code",
      "execution_count": 3,
      "metadata": {
        "id": "FSjWM-oncH1e"
      },
      "outputs": [],
      "source": [
        "arr=[3,5,8,9,15,19]\n",
        "\n",
        "def lower_bound(arr,target):\n",
        "  low=0\n",
        "  high=len(arr)-1\n",
        "  ans=len(arr)\n",
        "  while(low<=high):\n",
        "    mid=low+(high-low)//2\n",
        "    if(arr[mid]>target):\n",
        "      ans=mid\n",
        "      high=mid-1\n",
        "    else:\n",
        "      low=mid+1\n",
        "  return ans"
      ]
    },
    {
      "cell_type": "code",
      "source": [
        "lower_bound(arr,12)"
      ],
      "metadata": {
        "colab": {
          "base_uri": "https://localhost:8080/"
        },
        "id": "DICnKqsmfkh0",
        "outputId": "0195d36c-8518-4219-dc02-a39a2c190a0b"
      },
      "execution_count": 4,
      "outputs": [
        {
          "output_type": "execute_result",
          "data": {
            "text/plain": [
              "4"
            ]
          },
          "metadata": {},
          "execution_count": 4
        }
      ]
    },
    {
      "cell_type": "code",
      "source": [],
      "metadata": {
        "id": "IMa1AupbfnIG"
      },
      "execution_count": null,
      "outputs": []
    }
  ]
}